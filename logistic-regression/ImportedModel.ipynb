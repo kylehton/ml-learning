{
 "cells": [
  {
   "cell_type": "code",
   "execution_count": 6,
   "id": "f9781b06-dd23-49a3-90e2-567e4af97e8d",
   "metadata": {},
   "outputs": [],
   "source": [
    "import joblib\n",
    "import pandas as pd"
   ]
  },
  {
   "cell_type": "code",
   "execution_count": 7,
   "id": "4329ee7e-6ce2-493e-a9ba-9adc26669192",
   "metadata": {},
   "outputs": [],
   "source": [
    "model = joblib.load(\"LogisticRegressionModel.joblib\")"
   ]
  },
  {
   "cell_type": "code",
   "execution_count": 8,
   "id": "ace9a84c-2887-43b1-9a5a-c4a9e2800da5",
   "metadata": {},
   "outputs": [],
   "source": [
    "# Player A fake stats\n",
    "player_a_stats = {\n",
    "    'rank': 14,\n",
    "    'rank_points': 2570,\n",
    "    '1stIn': 58,\n",
    "    '1stWon': 44,\n",
    "    '2ndWon': 16,\n",
    "    'SvGms': 11,\n",
    "    'bpSaved': 8,\n",
    "    'bpFaced': 9\n",
    "}\n",
    "\n",
    "# Player B fake stats\n",
    "player_b_stats = {\n",
    "    'rank': 8,\n",
    "    'rank_points': 3660,\n",
    "    '1stIn': 60,\n",
    "    '1stWon': 46,\n",
    "    '2ndWon': 15,\n",
    "    'SvGms': 11,\n",
    "    'bpSaved': 7,\n",
    "    'bpFaced': 8\n",
    "}\n"
   ]
  },
  {
   "cell_type": "code",
   "execution_count": 9,
   "id": "a42a26b1-0d1e-43df-be9f-b9616460984d",
   "metadata": {},
   "outputs": [
    {
     "name": "stdout",
     "output_type": "stream",
     "text": [
      "Player B is likely to win with 62.1% confidence\n"
     ]
    }
   ],
   "source": [
    " # Calculate feature differences (Player A - Player B)\n",
    "feature_vector = pd.DataFrame([{\n",
    "    'rank_diff': player_a_stats['rank'] - player_b_stats['rank'],\n",
    "    'rank_points_diff': player_a_stats['rank_points'] - player_b_stats['rank_points'],\n",
    "    '1stIn_diff': player_a_stats['1stIn'] - player_b_stats['1stIn'],\n",
    "    '1stWon_diff': player_a_stats['1stWon'] - player_b_stats['1stWon'],\n",
    "    '2ndWon_diff': player_a_stats['2ndWon'] - player_b_stats['2ndWon'],\n",
    "    'SvGms_diff': player_a_stats['SvGms'] - player_b_stats['SvGms'],\n",
    "    'bpSaved_diff': player_a_stats['bpSaved'] - player_b_stats['bpSaved'],\n",
    "    'bpFaced_diff': player_a_stats['bpFaced'] - player_b_stats['bpFaced'],\n",
    "}])\n",
    "\n",
    "# Predict using feature diffs\n",
    "prediction = model.predict(feature_vector)[0]\n",
    "probability = model.predict_proba(feature_vector)[0][prediction]\n",
    "\n",
    "# Outcome + rate of confidence\n",
    "if prediction == 1:\n",
    "    print(f\"Player A is likely to win with {probability*100:.1f}% confidence\")\n",
    "else:\n",
    "    print(f\"Player B is likely to win with {probability*100:.1f}% confidence\")"
   ]
  },
  {
   "cell_type": "code",
   "execution_count": null,
   "id": "0861f14c-cc78-478c-8436-8c980f0f4554",
   "metadata": {},
   "outputs": [],
   "source": []
  }
 ],
 "metadata": {
  "kernelspec": {
   "display_name": "Python 3 (ipykernel)",
   "language": "python",
   "name": "python3"
  },
  "language_info": {
   "codemirror_mode": {
    "name": "ipython",
    "version": 3
   },
   "file_extension": ".py",
   "mimetype": "text/x-python",
   "name": "python",
   "nbconvert_exporter": "python",
   "pygments_lexer": "ipython3",
   "version": "3.13.2"
  }
 },
 "nbformat": 4,
 "nbformat_minor": 5
}
